{
 "cells": [
  {
   "cell_type": "code",
   "execution_count": null,
   "metadata": {},
   "outputs": [],
   "source": [
    "import pandas as pd"
   ]
  },
  {
   "cell_type": "code",
   "execution_count": null,
   "metadata": {},
   "outputs": [],
   "source": [
    "import numpy as np"
   ]
  },
  {
   "cell_type": "code",
   "execution_count": null,
   "metadata": {},
   "outputs": [],
   "source": [
    "#object creation \n",
    "s = pd.Series([1,3,np.nan,5,8,9])\n",
    "s"
   ]
  },
  {
   "cell_type": "code",
   "execution_count": null,
   "metadata": {},
   "outputs": [],
   "source": [
    "dates = pd.date_range('20220701',periods= 20)\n",
    "dates"
   ]
  },
  {
   "cell_type": "code",
   "execution_count": null,
   "metadata": {},
   "outputs": [],
   "source": [
    "\n",
    "df = pd.DataFrame(np.random.randn(20,4),index=dates,columns=list('ABCD'))\n",
    "df"
   ]
  },
  {
   "cell_type": "code",
   "execution_count": null,
   "metadata": {},
   "outputs": [],
   "source": [
    "from pandas import Categorical, Series, array\n",
    "\n",
    "\n",
    "df2= pd.DataFrame(\n",
    "    {\n",
    "        'A': 1.0,\n",
    "        'B': pd.Timestamp('20220701'),\n",
    "        'C': pd.Series(1, index = np.arange(4),dtype='float32'),\n",
    "        'D': np.array([3]*4, dtype='int32'),\n",
    "        'E': pd.Categorical(['test','train','test','train']),\n",
    "        'F': 'foo'\n",
    "    }\n",
    ")\n",
    "df2"
   ]
  },
  {
   "cell_type": "code",
   "execution_count": null,
   "metadata": {},
   "outputs": [],
   "source": [
    "df2.dtypes"
   ]
  },
  {
   "cell_type": "code",
   "execution_count": null,
   "metadata": {},
   "outputs": [],
   "source": [
    "df.head()"
   ]
  },
  {
   "cell_type": "code",
   "execution_count": null,
   "metadata": {},
   "outputs": [],
   "source": [
    "df.tail(2)"
   ]
  },
  {
   "cell_type": "code",
   "execution_count": null,
   "metadata": {},
   "outputs": [],
   "source": [
    "df.index"
   ]
  },
  {
   "cell_type": "code",
   "execution_count": null,
   "metadata": {},
   "outputs": [],
   "source": [
    "df2.index"
   ]
  },
  {
   "cell_type": "code",
   "execution_count": null,
   "metadata": {},
   "outputs": [],
   "source": [
    "df.to_numpy()\n"
   ]
  },
  {
   "cell_type": "code",
   "execution_count": null,
   "metadata": {},
   "outputs": [],
   "source": [
    "df2.to_numpy()"
   ]
  },
  {
   "cell_type": "code",
   "execution_count": null,
   "metadata": {},
   "outputs": [],
   "source": [
    "df.describe()"
   ]
  },
  {
   "cell_type": "code",
   "execution_count": null,
   "metadata": {},
   "outputs": [],
   "source": [
    "df2.T    #transpose"
   ]
  },
  {
   "cell_type": "code",
   "execution_count": null,
   "metadata": {},
   "outputs": [],
   "source": [
    "s= df2.T\n",
    "s.dtypes"
   ]
  },
  {
   "cell_type": "code",
   "execution_count": null,
   "metadata": {},
   "outputs": [],
   "source": [
    "df.sort_index(axis=1,ascending=False)"
   ]
  },
  {
   "cell_type": "code",
   "execution_count": null,
   "metadata": {},
   "outputs": [],
   "source": [
    "df['B'].sort_values()"
   ]
  },
  {
   "cell_type": "code",
   "execution_count": null,
   "metadata": {},
   "outputs": [],
   "source": [
    "df[0:4] #row wise selection"
   ]
  },
  {
   "cell_type": "code",
   "execution_count": null,
   "metadata": {},
   "outputs": [],
   "source": [
    "df.loc[dates[0]]"
   ]
  },
  {
   "cell_type": "code",
   "execution_count": null,
   "metadata": {},
   "outputs": [],
   "source": [
    "df.loc[:,['A','C']].head()"
   ]
  },
  {
   "cell_type": "code",
   "execution_count": null,
   "metadata": {},
   "outputs": [],
   "source": [
    "df.loc['20220702':'20220705',['A','C','D']]"
   ]
  },
  {
   "cell_type": "code",
   "execution_count": null,
   "metadata": {},
   "outputs": [],
   "source": [
    "df.at[dates[2],'A']"
   ]
  },
  {
   "cell_type": "code",
   "execution_count": null,
   "metadata": {},
   "outputs": [],
   "source": [
    "# df.iloc[1]\n",
    "df.iloc[2,1:3]"
   ]
  },
  {
   "cell_type": "code",
   "execution_count": null,
   "metadata": {},
   "outputs": [],
   "source": [
    "# df['A']>.7\n",
    "df[df['A']>.7]"
   ]
  },
  {
   "cell_type": "code",
   "execution_count": null,
   "metadata": {},
   "outputs": [],
   "source": [
    "# df>0\n",
    "df[df>0]"
   ]
  },
  {
   "cell_type": "code",
   "execution_count": null,
   "metadata": {},
   "outputs": [],
   "source": [
    "df[df['A']>.5 and df['B']>.5] "
   ]
  },
  {
   "cell_type": "code",
   "execution_count": 89,
   "metadata": {},
   "outputs": [
    {
     "data": {
      "text/html": [
       "<div>\n",
       "<style scoped>\n",
       "    .dataframe tbody tr th:only-of-type {\n",
       "        vertical-align: middle;\n",
       "    }\n",
       "\n",
       "    .dataframe tbody tr th {\n",
       "        vertical-align: top;\n",
       "    }\n",
       "\n",
       "    .dataframe thead th {\n",
       "        text-align: right;\n",
       "    }\n",
       "</style>\n",
       "<table border=\"1\" class=\"dataframe\">\n",
       "  <thead>\n",
       "    <tr style=\"text-align: right;\">\n",
       "      <th></th>\n",
       "      <th>A</th>\n",
       "      <th>B</th>\n",
       "      <th>C</th>\n",
       "      <th>D</th>\n",
       "    </tr>\n",
       "  </thead>\n",
       "  <tbody>\n",
       "    <tr>\n",
       "      <th>2022-07-01</th>\n",
       "      <td>-0.898439</td>\n",
       "      <td>0.555436</td>\n",
       "      <td>0.070588</td>\n",
       "      <td>-0.482015</td>\n",
       "    </tr>\n",
       "    <tr>\n",
       "      <th>2022-07-02</th>\n",
       "      <td>-0.577422</td>\n",
       "      <td>-2.061369</td>\n",
       "      <td>-0.446952</td>\n",
       "      <td>0.366119</td>\n",
       "    </tr>\n",
       "    <tr>\n",
       "      <th>2022-07-03</th>\n",
       "      <td>0.975463</td>\n",
       "      <td>-0.049056</td>\n",
       "      <td>0.671906</td>\n",
       "      <td>0.172406</td>\n",
       "    </tr>\n",
       "    <tr>\n",
       "      <th>2022-07-04</th>\n",
       "      <td>0.320235</td>\n",
       "      <td>0.639933</td>\n",
       "      <td>1.103486</td>\n",
       "      <td>1.154376</td>\n",
       "    </tr>\n",
       "    <tr>\n",
       "      <th>2022-07-05</th>\n",
       "      <td>-0.038154</td>\n",
       "      <td>-0.260117</td>\n",
       "      <td>-1.211969</td>\n",
       "      <td>-1.111431</td>\n",
       "    </tr>\n",
       "    <tr>\n",
       "      <th>2022-07-06</th>\n",
       "      <td>-1.480165</td>\n",
       "      <td>0.100325</td>\n",
       "      <td>0.171283</td>\n",
       "      <td>-0.826172</td>\n",
       "    </tr>\n",
       "    <tr>\n",
       "      <th>2022-07-07</th>\n",
       "      <td>0.592625</td>\n",
       "      <td>1.912689</td>\n",
       "      <td>-2.278094</td>\n",
       "      <td>1.061024</td>\n",
       "    </tr>\n",
       "    <tr>\n",
       "      <th>2022-07-08</th>\n",
       "      <td>0.577741</td>\n",
       "      <td>-0.260183</td>\n",
       "      <td>-0.458262</td>\n",
       "      <td>-1.669779</td>\n",
       "    </tr>\n",
       "    <tr>\n",
       "      <th>2022-07-09</th>\n",
       "      <td>-2.202441</td>\n",
       "      <td>2.535578</td>\n",
       "      <td>1.473497</td>\n",
       "      <td>0.065801</td>\n",
       "    </tr>\n",
       "    <tr>\n",
       "      <th>2022-07-10</th>\n",
       "      <td>-1.728860</td>\n",
       "      <td>1.981020</td>\n",
       "      <td>0.057033</td>\n",
       "      <td>0.170701</td>\n",
       "    </tr>\n",
       "    <tr>\n",
       "      <th>2022-07-11</th>\n",
       "      <td>0.341282</td>\n",
       "      <td>-1.193427</td>\n",
       "      <td>0.090115</td>\n",
       "      <td>1.187528</td>\n",
       "    </tr>\n",
       "    <tr>\n",
       "      <th>2022-07-12</th>\n",
       "      <td>1.098519</td>\n",
       "      <td>-2.457885</td>\n",
       "      <td>-0.066951</td>\n",
       "      <td>-0.668571</td>\n",
       "    </tr>\n",
       "    <tr>\n",
       "      <th>2022-07-13</th>\n",
       "      <td>-1.061923</td>\n",
       "      <td>0.857107</td>\n",
       "      <td>-0.577396</td>\n",
       "      <td>-0.526051</td>\n",
       "    </tr>\n",
       "    <tr>\n",
       "      <th>2022-07-14</th>\n",
       "      <td>0.738827</td>\n",
       "      <td>-0.975286</td>\n",
       "      <td>-0.423573</td>\n",
       "      <td>-2.441856</td>\n",
       "    </tr>\n",
       "    <tr>\n",
       "      <th>2022-07-15</th>\n",
       "      <td>-0.404486</td>\n",
       "      <td>2.443306</td>\n",
       "      <td>0.116101</td>\n",
       "      <td>-1.201154</td>\n",
       "    </tr>\n",
       "    <tr>\n",
       "      <th>2022-07-16</th>\n",
       "      <td>-0.260387</td>\n",
       "      <td>-0.000035</td>\n",
       "      <td>-1.076933</td>\n",
       "      <td>1.385679</td>\n",
       "    </tr>\n",
       "    <tr>\n",
       "      <th>2022-07-17</th>\n",
       "      <td>-0.141308</td>\n",
       "      <td>-2.035944</td>\n",
       "      <td>-0.595995</td>\n",
       "      <td>-1.220152</td>\n",
       "    </tr>\n",
       "    <tr>\n",
       "      <th>2022-07-18</th>\n",
       "      <td>0.946581</td>\n",
       "      <td>-0.221926</td>\n",
       "      <td>0.342313</td>\n",
       "      <td>-0.170278</td>\n",
       "    </tr>\n",
       "    <tr>\n",
       "      <th>2022-07-19</th>\n",
       "      <td>0.432906</td>\n",
       "      <td>0.200850</td>\n",
       "      <td>0.621083</td>\n",
       "      <td>-1.145338</td>\n",
       "    </tr>\n",
       "    <tr>\n",
       "      <th>2022-07-20</th>\n",
       "      <td>-0.579158</td>\n",
       "      <td>-0.358697</td>\n",
       "      <td>-2.117526</td>\n",
       "      <td>-1.394292</td>\n",
       "    </tr>\n",
       "  </tbody>\n",
       "</table>\n",
       "</div>"
      ],
      "text/plain": [
       "                   A         B         C         D\n",
       "2022-07-01 -0.898439  0.555436  0.070588 -0.482015\n",
       "2022-07-02 -0.577422 -2.061369 -0.446952  0.366119\n",
       "2022-07-03  0.975463 -0.049056  0.671906  0.172406\n",
       "2022-07-04  0.320235  0.639933  1.103486  1.154376\n",
       "2022-07-05 -0.038154 -0.260117 -1.211969 -1.111431\n",
       "2022-07-06 -1.480165  0.100325  0.171283 -0.826172\n",
       "2022-07-07  0.592625  1.912689 -2.278094  1.061024\n",
       "2022-07-08  0.577741 -0.260183 -0.458262 -1.669779\n",
       "2022-07-09 -2.202441  2.535578  1.473497  0.065801\n",
       "2022-07-10 -1.728860  1.981020  0.057033  0.170701\n",
       "2022-07-11  0.341282 -1.193427  0.090115  1.187528\n",
       "2022-07-12  1.098519 -2.457885 -0.066951 -0.668571\n",
       "2022-07-13 -1.061923  0.857107 -0.577396 -0.526051\n",
       "2022-07-14  0.738827 -0.975286 -0.423573 -2.441856\n",
       "2022-07-15 -0.404486  2.443306  0.116101 -1.201154\n",
       "2022-07-16 -0.260387 -0.000035 -1.076933  1.385679\n",
       "2022-07-17 -0.141308 -2.035944 -0.595995 -1.220152\n",
       "2022-07-18  0.946581 -0.221926  0.342313 -0.170278\n",
       "2022-07-19  0.432906  0.200850  0.621083 -1.145338\n",
       "2022-07-20 -0.579158 -0.358697 -2.117526 -1.394292"
      ]
     },
     "execution_count": 89,
     "metadata": {},
     "output_type": "execute_result"
    }
   ],
   "source": [
    "df3 =df.copy()\n",
    "df3"
   ]
  },
  {
   "cell_type": "code",
   "execution_count": 92,
   "metadata": {},
   "outputs": [
    {
     "data": {
      "text/html": [
       "<div>\n",
       "<style scoped>\n",
       "    .dataframe tbody tr th:only-of-type {\n",
       "        vertical-align: middle;\n",
       "    }\n",
       "\n",
       "    .dataframe tbody tr th {\n",
       "        vertical-align: top;\n",
       "    }\n",
       "\n",
       "    .dataframe thead th {\n",
       "        text-align: right;\n",
       "    }\n",
       "</style>\n",
       "<table border=\"1\" class=\"dataframe\">\n",
       "  <thead>\n",
       "    <tr style=\"text-align: right;\">\n",
       "      <th></th>\n",
       "      <th>A</th>\n",
       "      <th>B</th>\n",
       "      <th>C</th>\n",
       "      <th>D</th>\n",
       "      <th>new</th>\n",
       "    </tr>\n",
       "  </thead>\n",
       "  <tbody>\n",
       "    <tr>\n",
       "      <th>2022-07-01</th>\n",
       "      <td>-0.898439</td>\n",
       "      <td>0.555436</td>\n",
       "      <td>0.070588</td>\n",
       "      <td>-0.482015</td>\n",
       "      <td>0</td>\n",
       "    </tr>\n",
       "    <tr>\n",
       "      <th>2022-07-02</th>\n",
       "      <td>-0.577422</td>\n",
       "      <td>-2.061369</td>\n",
       "      <td>-0.446952</td>\n",
       "      <td>0.366119</td>\n",
       "      <td>1</td>\n",
       "    </tr>\n",
       "    <tr>\n",
       "      <th>2022-07-03</th>\n",
       "      <td>0.975463</td>\n",
       "      <td>-0.049056</td>\n",
       "      <td>0.671906</td>\n",
       "      <td>0.172406</td>\n",
       "      <td>2</td>\n",
       "    </tr>\n",
       "    <tr>\n",
       "      <th>2022-07-04</th>\n",
       "      <td>0.320235</td>\n",
       "      <td>0.639933</td>\n",
       "      <td>1.103486</td>\n",
       "      <td>1.154376</td>\n",
       "      <td>3</td>\n",
       "    </tr>\n",
       "    <tr>\n",
       "      <th>2022-07-05</th>\n",
       "      <td>-0.038154</td>\n",
       "      <td>-0.260117</td>\n",
       "      <td>-1.211969</td>\n",
       "      <td>-1.111431</td>\n",
       "      <td>4</td>\n",
       "    </tr>\n",
       "    <tr>\n",
       "      <th>2022-07-06</th>\n",
       "      <td>-1.480165</td>\n",
       "      <td>0.100325</td>\n",
       "      <td>0.171283</td>\n",
       "      <td>-0.826172</td>\n",
       "      <td>5</td>\n",
       "    </tr>\n",
       "    <tr>\n",
       "      <th>2022-07-07</th>\n",
       "      <td>0.592625</td>\n",
       "      <td>1.912689</td>\n",
       "      <td>-2.278094</td>\n",
       "      <td>1.061024</td>\n",
       "      <td>6</td>\n",
       "    </tr>\n",
       "    <tr>\n",
       "      <th>2022-07-08</th>\n",
       "      <td>0.577741</td>\n",
       "      <td>-0.260183</td>\n",
       "      <td>-0.458262</td>\n",
       "      <td>-1.669779</td>\n",
       "      <td>7</td>\n",
       "    </tr>\n",
       "    <tr>\n",
       "      <th>2022-07-09</th>\n",
       "      <td>-2.202441</td>\n",
       "      <td>2.535578</td>\n",
       "      <td>1.473497</td>\n",
       "      <td>0.065801</td>\n",
       "      <td>8</td>\n",
       "    </tr>\n",
       "    <tr>\n",
       "      <th>2022-07-10</th>\n",
       "      <td>-1.728860</td>\n",
       "      <td>1.981020</td>\n",
       "      <td>0.057033</td>\n",
       "      <td>0.170701</td>\n",
       "      <td>9</td>\n",
       "    </tr>\n",
       "    <tr>\n",
       "      <th>2022-07-11</th>\n",
       "      <td>0.341282</td>\n",
       "      <td>-1.193427</td>\n",
       "      <td>0.090115</td>\n",
       "      <td>1.187528</td>\n",
       "      <td>10</td>\n",
       "    </tr>\n",
       "    <tr>\n",
       "      <th>2022-07-12</th>\n",
       "      <td>1.098519</td>\n",
       "      <td>-2.457885</td>\n",
       "      <td>-0.066951</td>\n",
       "      <td>-0.668571</td>\n",
       "      <td>11</td>\n",
       "    </tr>\n",
       "    <tr>\n",
       "      <th>2022-07-13</th>\n",
       "      <td>-1.061923</td>\n",
       "      <td>0.857107</td>\n",
       "      <td>-0.577396</td>\n",
       "      <td>-0.526051</td>\n",
       "      <td>12</td>\n",
       "    </tr>\n",
       "    <tr>\n",
       "      <th>2022-07-14</th>\n",
       "      <td>0.738827</td>\n",
       "      <td>-0.975286</td>\n",
       "      <td>-0.423573</td>\n",
       "      <td>-2.441856</td>\n",
       "      <td>13</td>\n",
       "    </tr>\n",
       "    <tr>\n",
       "      <th>2022-07-15</th>\n",
       "      <td>-0.404486</td>\n",
       "      <td>2.443306</td>\n",
       "      <td>0.116101</td>\n",
       "      <td>-1.201154</td>\n",
       "      <td>14</td>\n",
       "    </tr>\n",
       "    <tr>\n",
       "      <th>2022-07-16</th>\n",
       "      <td>-0.260387</td>\n",
       "      <td>-0.000035</td>\n",
       "      <td>-1.076933</td>\n",
       "      <td>1.385679</td>\n",
       "      <td>15</td>\n",
       "    </tr>\n",
       "    <tr>\n",
       "      <th>2022-07-17</th>\n",
       "      <td>-0.141308</td>\n",
       "      <td>-2.035944</td>\n",
       "      <td>-0.595995</td>\n",
       "      <td>-1.220152</td>\n",
       "      <td>16</td>\n",
       "    </tr>\n",
       "    <tr>\n",
       "      <th>2022-07-18</th>\n",
       "      <td>0.946581</td>\n",
       "      <td>-0.221926</td>\n",
       "      <td>0.342313</td>\n",
       "      <td>-0.170278</td>\n",
       "      <td>17</td>\n",
       "    </tr>\n",
       "    <tr>\n",
       "      <th>2022-07-19</th>\n",
       "      <td>0.432906</td>\n",
       "      <td>0.200850</td>\n",
       "      <td>0.621083</td>\n",
       "      <td>-1.145338</td>\n",
       "      <td>18</td>\n",
       "    </tr>\n",
       "    <tr>\n",
       "      <th>2022-07-20</th>\n",
       "      <td>-0.579158</td>\n",
       "      <td>-0.358697</td>\n",
       "      <td>-2.117526</td>\n",
       "      <td>-1.394292</td>\n",
       "      <td>19</td>\n",
       "    </tr>\n",
       "  </tbody>\n",
       "</table>\n",
       "</div>"
      ],
      "text/plain": [
       "                   A         B         C         D  new\n",
       "2022-07-01 -0.898439  0.555436  0.070588 -0.482015    0\n",
       "2022-07-02 -0.577422 -2.061369 -0.446952  0.366119    1\n",
       "2022-07-03  0.975463 -0.049056  0.671906  0.172406    2\n",
       "2022-07-04  0.320235  0.639933  1.103486  1.154376    3\n",
       "2022-07-05 -0.038154 -0.260117 -1.211969 -1.111431    4\n",
       "2022-07-06 -1.480165  0.100325  0.171283 -0.826172    5\n",
       "2022-07-07  0.592625  1.912689 -2.278094  1.061024    6\n",
       "2022-07-08  0.577741 -0.260183 -0.458262 -1.669779    7\n",
       "2022-07-09 -2.202441  2.535578  1.473497  0.065801    8\n",
       "2022-07-10 -1.728860  1.981020  0.057033  0.170701    9\n",
       "2022-07-11  0.341282 -1.193427  0.090115  1.187528   10\n",
       "2022-07-12  1.098519 -2.457885 -0.066951 -0.668571   11\n",
       "2022-07-13 -1.061923  0.857107 -0.577396 -0.526051   12\n",
       "2022-07-14  0.738827 -0.975286 -0.423573 -2.441856   13\n",
       "2022-07-15 -0.404486  2.443306  0.116101 -1.201154   14\n",
       "2022-07-16 -0.260387 -0.000035 -1.076933  1.385679   15\n",
       "2022-07-17 -0.141308 -2.035944 -0.595995 -1.220152   16\n",
       "2022-07-18  0.946581 -0.221926  0.342313 -0.170278   17\n",
       "2022-07-19  0.432906  0.200850  0.621083 -1.145338   18\n",
       "2022-07-20 -0.579158 -0.358697 -2.117526 -1.394292   19"
      ]
     },
     "execution_count": 92,
     "metadata": {},
     "output_type": "execute_result"
    }
   ],
   "source": [
    "df3['new'] = np.arange(20)\n",
    "df3"
   ]
  },
  {
   "cell_type": "code",
   "execution_count": 119,
   "metadata": {},
   "outputs": [
    {
     "data": {
      "text/plain": [
       "2022-07-01   -0.413925\n",
       "2022-07-02   -0.512187\n",
       "2022-07-03    0.823684\n",
       "2022-07-04    0.711861\n",
       "2022-07-05   -0.625062\n",
       "2022-07-06   -0.654441\n",
       "2022-07-07   -0.842734\n",
       "2022-07-08    0.059739\n",
       "2022-07-09   -0.364472\n",
       "2022-07-10   -0.835914\n",
       "2022-07-11    0.215699\n",
       "2022-07-12    0.515784\n",
       "2022-07-13   -0.819660\n",
       "2022-07-14    0.157627\n",
       "2022-07-15   -0.144192\n",
       "2022-07-16   -0.668660\n",
       "2022-07-17   -0.368652\n",
       "2022-07-18    0.644447\n",
       "2022-07-19    0.526994\n",
       "2022-07-20   -1.348342\n",
       "Freq: D, dtype: float64"
      ]
     },
     "execution_count": 119,
     "metadata": {},
     "output_type": "execute_result"
    }
   ],
   "source": [
    "df.loc[:,['A','C']].mean(axis=1)"
   ]
  }
 ],
 "metadata": {
  "kernelspec": {
   "display_name": "Python 3.9.12 ('base')",
   "language": "python",
   "name": "python3"
  },
  "language_info": {
   "codemirror_mode": {
    "name": "ipython",
    "version": 3
   },
   "file_extension": ".py",
   "mimetype": "text/x-python",
   "name": "python",
   "nbconvert_exporter": "python",
   "pygments_lexer": "ipython3",
   "version": "3.9.12"
  },
  "orig_nbformat": 4,
  "vscode": {
   "interpreter": {
    "hash": "147c3bc6fc00590e58d3e3ef7b83ae10ae7abb113a3e5d9de85582d13b73ba37"
   }
  }
 },
 "nbformat": 4,
 "nbformat_minor": 2
}
